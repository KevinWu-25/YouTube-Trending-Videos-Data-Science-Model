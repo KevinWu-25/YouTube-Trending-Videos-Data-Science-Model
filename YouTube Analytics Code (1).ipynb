{
 "cells": [
  {
   "cell_type": "markdown",
   "metadata": {},
   "source": [
    "**Title:** Youtube Trending Videos Analytics Project\\\n",
    "Welcome to my YouTube Analytics Project! This notebook will set out to create a model that best predicts the number of days a video will be trending for.\n",
    "\n",
    "We create the model by:\n",
    "1) Conducting Data Manipulation - Create new variables and columns which hold valuable values to use in future calculations \\\n",
    "2) Exploratory Data Analysis - Explore each variable and see what sort of trends we can spot through visualizations and graphs \\\n",
    "3) Supervised Model - Set out to predict the number of days trending (days_trending) using the values and information we derived from the previous steps! We try several models and list out their capabilities \n",
    "\n",
    "Enjoy!\n"
   ]
  },
  {
   "cell_type": "code",
   "execution_count": 40,
   "metadata": {
    "id": "gZ33e9ejpxwr"
   },
   "outputs": [],
   "source": [
    "import pandas as pd\n",
    "import numpy as np\n",
    "import matplotlib.pyplot as plt\n",
    "import matplotlib.ticker as ticker\n",
    "import io\n",
    "import seaborn as sns\n",
    "import datetime"
   ]
  },
  {
   "cell_type": "code",
   "execution_count": 41,
   "metadata": {
    "colab": {
     "base_uri": "https://localhost:8080/"
    },
    "id": "mjClRam3HfPs",
    "outputId": "4fea19b0-f95d-484a-94f1-65d20b76e3df"
   },
   "outputs": [
    {
     "name": "stdout",
     "output_type": "stream",
     "text": [
      "Requirement already satisfied: vaderSentiment in /Users/Admin/opt/anaconda3/lib/python3.8/site-packages (3.3.2)\n",
      "Requirement already satisfied: requests in /Users/Admin/opt/anaconda3/lib/python3.8/site-packages (from vaderSentiment) (2.24.0)\n",
      "Requirement already satisfied: certifi>=2017.4.17 in /Users/Admin/opt/anaconda3/lib/python3.8/site-packages (from requests->vaderSentiment) (2020.6.20)\n",
      "Requirement already satisfied: idna<3,>=2.5 in /Users/Admin/opt/anaconda3/lib/python3.8/site-packages (from requests->vaderSentiment) (2.10)\n",
      "Requirement already satisfied: chardet<4,>=3.0.2 in /Users/Admin/opt/anaconda3/lib/python3.8/site-packages (from requests->vaderSentiment) (3.0.4)\n",
      "Requirement already satisfied: urllib3!=1.25.0,!=1.25.1,<1.26,>=1.21.1 in /Users/Admin/opt/anaconda3/lib/python3.8/site-packages (from requests->vaderSentiment) (1.25.11)\n",
      "Note: you may need to restart the kernel to use updated packages.\n"
     ]
    }
   ],
   "source": [
    "pip install vaderSentiment"
   ]
  },
  {
   "cell_type": "code",
   "execution_count": 42,
   "metadata": {
    "colab": {
     "base_uri": "https://localhost:8080/"
    },
    "id": "9vFTa-y2H0ht",
    "outputId": "8bdce4b9-0ee3-47b7-9625-186ae66f137d"
   },
   "outputs": [
    {
     "name": "stderr",
     "output_type": "stream",
     "text": [
      "[nltk_data] Downloading package vader_lexicon to\n",
      "[nltk_data]     /Users/Admin/nltk_data...\n",
      "[nltk_data]   Package vader_lexicon is already up-to-date!\n"
     ]
    },
    {
     "data": {
      "text/plain": [
       "True"
      ]
     },
     "execution_count": 42,
     "metadata": {},
     "output_type": "execute_result"
    }
   ],
   "source": [
    "import nltk\n",
    "nltk.download ('vader_lexicon')"
   ]
  },
  {
   "cell_type": "code",
   "execution_count": 43,
   "metadata": {
    "id": "EAZ2O328GCgU"
   },
   "outputs": [],
   "source": [
    "# Sentiment analysis\n",
    "# import VADER Sentiment Analysis\n",
    "from nltk.sentiment.vader import SentimentIntensityAnalyzer\n",
    "\n",
    "# Creating an instance\n",
    "vds=SentimentIntensityAnalyzer()"
   ]
  },
  {
   "cell_type": "code",
   "execution_count": 44,
   "metadata": {
    "colab": {
     "base_uri": "https://localhost:8080/",
     "height": 374
    },
    "id": "IXhJeK2u0QSB",
    "outputId": "5c05ac25-0313-4b2b-9b24-9bdea6611a6f"
   },
   "outputs": [],
   "source": [
    "#MUST DOWNLOAD CSV DATAFILE included in the zip folder\n",
    "data = pd.read_csv('CA_youtube_trending_data.csv')"
   ]
  },
  {
   "cell_type": "code",
   "execution_count": 45,
   "metadata": {
    "colab": {
     "base_uri": "https://localhost:8080/",
     "height": 949
    },
    "id": "77_eNHwnpzhB",
    "outputId": "69bfbaff-5aa1-4393-ba1f-b05738885347"
   },
   "outputs": [
    {
     "data": {
      "text/html": [
       "<div>\n",
       "<style scoped>\n",
       "    .dataframe tbody tr th:only-of-type {\n",
       "        vertical-align: middle;\n",
       "    }\n",
       "\n",
       "    .dataframe tbody tr th {\n",
       "        vertical-align: top;\n",
       "    }\n",
       "\n",
       "    .dataframe thead th {\n",
       "        text-align: right;\n",
       "    }\n",
       "</style>\n",
       "<table border=\"1\" class=\"dataframe\">\n",
       "  <thead>\n",
       "    <tr style=\"text-align: right;\">\n",
       "      <th></th>\n",
       "      <th>video_id</th>\n",
       "      <th>title</th>\n",
       "      <th>publishedAt</th>\n",
       "      <th>channelId</th>\n",
       "      <th>channelTitle</th>\n",
       "      <th>categoryId</th>\n",
       "      <th>trending_date</th>\n",
       "      <th>tags</th>\n",
       "      <th>view_count</th>\n",
       "      <th>likes</th>\n",
       "      <th>dislikes</th>\n",
       "      <th>comment_count</th>\n",
       "      <th>thumbnail_link</th>\n",
       "      <th>comments_disabled</th>\n",
       "      <th>ratings_disabled</th>\n",
       "      <th>description</th>\n",
       "    </tr>\n",
       "  </thead>\n",
       "  <tbody>\n",
       "    <tr>\n",
       "      <th>0</th>\n",
       "      <td>KX06ksuS6Xo</td>\n",
       "      <td>Diljit Dosanjh: CLASH (Official) Music Video |...</td>\n",
       "      <td>2020-08-11T07:30:02Z</td>\n",
       "      <td>UCZRdNleCgW-BGUJf-bbjzQg</td>\n",
       "      <td>Diljit Dosanjh</td>\n",
       "      <td>10</td>\n",
       "      <td>2020-08-12T00:00:00Z</td>\n",
       "      <td>clash diljit dosanjh|diljit dosanjh|diljit dos...</td>\n",
       "      <td>9140911</td>\n",
       "      <td>296541</td>\n",
       "      <td>6180</td>\n",
       "      <td>30059</td>\n",
       "      <td>https://i.ytimg.com/vi/KX06ksuS6Xo/default.jpg</td>\n",
       "      <td>False</td>\n",
       "      <td>False</td>\n",
       "      <td>CLASH official music video performed by DILJIT...</td>\n",
       "    </tr>\n",
       "    <tr>\n",
       "      <th>1</th>\n",
       "      <td>J78aPJ3VyNs</td>\n",
       "      <td>I left youtube for a month and THIS is what ha...</td>\n",
       "      <td>2020-08-11T16:34:06Z</td>\n",
       "      <td>UCYzPXprvl5Y-Sf0g4vX-m6g</td>\n",
       "      <td>jacksepticeye</td>\n",
       "      <td>24</td>\n",
       "      <td>2020-08-12T00:00:00Z</td>\n",
       "      <td>jacksepticeye|funny|funny meme|memes|jacksepti...</td>\n",
       "      <td>2038853</td>\n",
       "      <td>353797</td>\n",
       "      <td>2628</td>\n",
       "      <td>40222</td>\n",
       "      <td>https://i.ytimg.com/vi/J78aPJ3VyNs/default.jpg</td>\n",
       "      <td>False</td>\n",
       "      <td>False</td>\n",
       "      <td>I left youtube for a month and this is what ha...</td>\n",
       "    </tr>\n",
       "    <tr>\n",
       "      <th>2</th>\n",
       "      <td>M9Pmf9AB4Mo</td>\n",
       "      <td>Apex Legends | Stories from the Outlands – “Th...</td>\n",
       "      <td>2020-08-11T17:00:10Z</td>\n",
       "      <td>UC0ZV6M2THA81QT9hrVWJG3A</td>\n",
       "      <td>Apex Legends</td>\n",
       "      <td>20</td>\n",
       "      <td>2020-08-12T00:00:00Z</td>\n",
       "      <td>Apex Legends|Apex Legends characters|new Apex ...</td>\n",
       "      <td>2381688</td>\n",
       "      <td>146740</td>\n",
       "      <td>2794</td>\n",
       "      <td>16549</td>\n",
       "      <td>https://i.ytimg.com/vi/M9Pmf9AB4Mo/default.jpg</td>\n",
       "      <td>False</td>\n",
       "      <td>False</td>\n",
       "      <td>While running her own modding shop, Ramya Pare...</td>\n",
       "    </tr>\n",
       "    <tr>\n",
       "      <th>3</th>\n",
       "      <td>3C66w5Z0ixs</td>\n",
       "      <td>I ASKED HER TO BE MY GIRLFRIEND...</td>\n",
       "      <td>2020-08-11T19:20:14Z</td>\n",
       "      <td>UCvtRTOMP2TqYqu51xNrqAzg</td>\n",
       "      <td>Brawadis</td>\n",
       "      <td>22</td>\n",
       "      <td>2020-08-12T00:00:00Z</td>\n",
       "      <td>brawadis|prank|basketball|skits|ghost|funny vi...</td>\n",
       "      <td>1514614</td>\n",
       "      <td>156914</td>\n",
       "      <td>5857</td>\n",
       "      <td>35331</td>\n",
       "      <td>https://i.ytimg.com/vi/3C66w5Z0ixs/default.jpg</td>\n",
       "      <td>False</td>\n",
       "      <td>False</td>\n",
       "      <td>SUBSCRIBE to BRAWADIS ▶ http://bit.ly/Subscrib...</td>\n",
       "    </tr>\n",
       "    <tr>\n",
       "      <th>4</th>\n",
       "      <td>VIUo6yapDbc</td>\n",
       "      <td>Ultimate DIY Home Movie Theater for The LaBran...</td>\n",
       "      <td>2020-08-11T15:10:05Z</td>\n",
       "      <td>UCDVPcEbVLQgLZX0Rt6jo34A</td>\n",
       "      <td>Mr. Kate</td>\n",
       "      <td>26</td>\n",
       "      <td>2020-08-12T00:00:00Z</td>\n",
       "      <td>The LaBrant Family|DIY|Interior Design|Makeove...</td>\n",
       "      <td>1123889</td>\n",
       "      <td>45803</td>\n",
       "      <td>964</td>\n",
       "      <td>2198</td>\n",
       "      <td>https://i.ytimg.com/vi/VIUo6yapDbc/default.jpg</td>\n",
       "      <td>False</td>\n",
       "      <td>False</td>\n",
       "      <td>Transforming The LaBrant Family's empty white ...</td>\n",
       "    </tr>\n",
       "    <tr>\n",
       "      <th>...</th>\n",
       "      <td>...</td>\n",
       "      <td>...</td>\n",
       "      <td>...</td>\n",
       "      <td>...</td>\n",
       "      <td>...</td>\n",
       "      <td>...</td>\n",
       "      <td>...</td>\n",
       "      <td>...</td>\n",
       "      <td>...</td>\n",
       "      <td>...</td>\n",
       "      <td>...</td>\n",
       "      <td>...</td>\n",
       "      <td>...</td>\n",
       "      <td>...</td>\n",
       "      <td>...</td>\n",
       "      <td>...</td>\n",
       "    </tr>\n",
       "    <tr>\n",
       "      <th>46139</th>\n",
       "      <td>XLr-ljPTfFs</td>\n",
       "      <td>Keith Eats Everything At Subway</td>\n",
       "      <td>2021-03-27T15:00:17Z</td>\n",
       "      <td>UCpi8TJfiA4lKGkaXs__YdBA</td>\n",
       "      <td>The Try Guys</td>\n",
       "      <td>23</td>\n",
       "      <td>2021-04-03T00:00:00Z</td>\n",
       "      <td>try guys|keith|ned|zach|eugene|habersberger|fu...</td>\n",
       "      <td>1857018</td>\n",
       "      <td>62192</td>\n",
       "      <td>1204</td>\n",
       "      <td>4935</td>\n",
       "      <td>https://i.ytimg.com/vi/XLr-ljPTfFs/default.jpg</td>\n",
       "      <td>False</td>\n",
       "      <td>False</td>\n",
       "      <td>Who's ready to eat fresh?! Watch Keith eat eve...</td>\n",
       "    </tr>\n",
       "    <tr>\n",
       "      <th>46140</th>\n",
       "      <td>bbUt3u7t4y4</td>\n",
       "      <td>Testing the viral apple juice that sounds like...</td>\n",
       "      <td>2021-03-05T20:14:46Z</td>\n",
       "      <td>UCsmvyN1ioujLMALHNKVnsSA</td>\n",
       "      <td>Ariana Lee</td>\n",
       "      <td>26</td>\n",
       "      <td>2021-04-03T00:00:00Z</td>\n",
       "      <td>[None]</td>\n",
       "      <td>3694871</td>\n",
       "      <td>210607</td>\n",
       "      <td>30823</td>\n",
       "      <td>8782</td>\n",
       "      <td>https://i.ytimg.com/vi/bbUt3u7t4y4/default.jpg</td>\n",
       "      <td>False</td>\n",
       "      <td>False</td>\n",
       "      <td>Testing the viral apple juice that sounds like...</td>\n",
       "    </tr>\n",
       "    <tr>\n",
       "      <th>46141</th>\n",
       "      <td>ZqxQ7MBfwyo</td>\n",
       "      <td>We Finally Take The Corvair Off Road.</td>\n",
       "      <td>2021-03-28T13:15:03Z</td>\n",
       "      <td>UCwdVOry0oNF9WIe_3uCfz9Q</td>\n",
       "      <td>Matt's Off Road Recovery</td>\n",
       "      <td>2</td>\n",
       "      <td>2021-04-03T00:00:00Z</td>\n",
       "      <td>Off road recovery|Rescue|Matts off road recove...</td>\n",
       "      <td>728146</td>\n",
       "      <td>31497</td>\n",
       "      <td>260</td>\n",
       "      <td>3004</td>\n",
       "      <td>https://i.ytimg.com/vi/ZqxQ7MBfwyo/default.jpg</td>\n",
       "      <td>False</td>\n",
       "      <td>False</td>\n",
       "      <td>So we're building a Corvair rescue truck and w...</td>\n",
       "    </tr>\n",
       "    <tr>\n",
       "      <th>46142</th>\n",
       "      <td>FmZS9j54okg</td>\n",
       "      <td>Daniel Cormier reacts to Francis Ngannou's KO ...</td>\n",
       "      <td>2021-03-28T05:47:27Z</td>\n",
       "      <td>UCiWLfSweyRNmLpgEHekhoAg</td>\n",
       "      <td>ESPN</td>\n",
       "      <td>17</td>\n",
       "      <td>2021-04-03T00:00:00Z</td>\n",
       "      <td>espn|#espn|francis ngannou|stipe miocic vs fra...</td>\n",
       "      <td>1614174</td>\n",
       "      <td>16754</td>\n",
       "      <td>683</td>\n",
       "      <td>3269</td>\n",
       "      <td>https://i.ytimg.com/vi/FmZS9j54okg/default.jpg</td>\n",
       "      <td>False</td>\n",
       "      <td>False</td>\n",
       "      <td>Former UFC heavyweight champion Daniel Cormier...</td>\n",
       "    </tr>\n",
       "    <tr>\n",
       "      <th>46143</th>\n",
       "      <td>BtHhKiQgdeM</td>\n",
       "      <td>KVD Good Apple Foundation… Is It Jeffree Star ...</td>\n",
       "      <td>2021-03-27T17:00:48Z</td>\n",
       "      <td>UCkvK_5omS-42Ovgah8KRKtg</td>\n",
       "      <td>jeffreestar</td>\n",
       "      <td>26</td>\n",
       "      <td>2021-04-03T00:00:00Z</td>\n",
       "      <td>jeffree star|good apple foundation|jeffree sta...</td>\n",
       "      <td>2190983</td>\n",
       "      <td>76981</td>\n",
       "      <td>8018</td>\n",
       "      <td>8722</td>\n",
       "      <td>https://i.ytimg.com/vi/BtHhKiQgdeM/default.jpg</td>\n",
       "      <td>False</td>\n",
       "      <td>False</td>\n",
       "      <td>HEY EVERYONE... Welcome BACK to my channel!! I...</td>\n",
       "    </tr>\n",
       "  </tbody>\n",
       "</table>\n",
       "<p>46144 rows × 16 columns</p>\n",
       "</div>"
      ],
      "text/plain": [
       "          video_id                                              title  \\\n",
       "0      KX06ksuS6Xo  Diljit Dosanjh: CLASH (Official) Music Video |...   \n",
       "1      J78aPJ3VyNs  I left youtube for a month and THIS is what ha...   \n",
       "2      M9Pmf9AB4Mo  Apex Legends | Stories from the Outlands – “Th...   \n",
       "3      3C66w5Z0ixs                 I ASKED HER TO BE MY GIRLFRIEND...   \n",
       "4      VIUo6yapDbc  Ultimate DIY Home Movie Theater for The LaBran...   \n",
       "...            ...                                                ...   \n",
       "46139  XLr-ljPTfFs                    Keith Eats Everything At Subway   \n",
       "46140  bbUt3u7t4y4  Testing the viral apple juice that sounds like...   \n",
       "46141  ZqxQ7MBfwyo              We Finally Take The Corvair Off Road.   \n",
       "46142  FmZS9j54okg  Daniel Cormier reacts to Francis Ngannou's KO ...   \n",
       "46143  BtHhKiQgdeM  KVD Good Apple Foundation… Is It Jeffree Star ...   \n",
       "\n",
       "                publishedAt                 channelId  \\\n",
       "0      2020-08-11T07:30:02Z  UCZRdNleCgW-BGUJf-bbjzQg   \n",
       "1      2020-08-11T16:34:06Z  UCYzPXprvl5Y-Sf0g4vX-m6g   \n",
       "2      2020-08-11T17:00:10Z  UC0ZV6M2THA81QT9hrVWJG3A   \n",
       "3      2020-08-11T19:20:14Z  UCvtRTOMP2TqYqu51xNrqAzg   \n",
       "4      2020-08-11T15:10:05Z  UCDVPcEbVLQgLZX0Rt6jo34A   \n",
       "...                     ...                       ...   \n",
       "46139  2021-03-27T15:00:17Z  UCpi8TJfiA4lKGkaXs__YdBA   \n",
       "46140  2021-03-05T20:14:46Z  UCsmvyN1ioujLMALHNKVnsSA   \n",
       "46141  2021-03-28T13:15:03Z  UCwdVOry0oNF9WIe_3uCfz9Q   \n",
       "46142  2021-03-28T05:47:27Z  UCiWLfSweyRNmLpgEHekhoAg   \n",
       "46143  2021-03-27T17:00:48Z  UCkvK_5omS-42Ovgah8KRKtg   \n",
       "\n",
       "                   channelTitle  categoryId         trending_date  \\\n",
       "0                Diljit Dosanjh          10  2020-08-12T00:00:00Z   \n",
       "1                 jacksepticeye          24  2020-08-12T00:00:00Z   \n",
       "2                  Apex Legends          20  2020-08-12T00:00:00Z   \n",
       "3                      Brawadis          22  2020-08-12T00:00:00Z   \n",
       "4                      Mr. Kate          26  2020-08-12T00:00:00Z   \n",
       "...                         ...         ...                   ...   \n",
       "46139              The Try Guys          23  2021-04-03T00:00:00Z   \n",
       "46140                Ariana Lee          26  2021-04-03T00:00:00Z   \n",
       "46141  Matt's Off Road Recovery           2  2021-04-03T00:00:00Z   \n",
       "46142                      ESPN          17  2021-04-03T00:00:00Z   \n",
       "46143               jeffreestar          26  2021-04-03T00:00:00Z   \n",
       "\n",
       "                                                    tags  view_count   likes  \\\n",
       "0      clash diljit dosanjh|diljit dosanjh|diljit dos...     9140911  296541   \n",
       "1      jacksepticeye|funny|funny meme|memes|jacksepti...     2038853  353797   \n",
       "2      Apex Legends|Apex Legends characters|new Apex ...     2381688  146740   \n",
       "3      brawadis|prank|basketball|skits|ghost|funny vi...     1514614  156914   \n",
       "4      The LaBrant Family|DIY|Interior Design|Makeove...     1123889   45803   \n",
       "...                                                  ...         ...     ...   \n",
       "46139  try guys|keith|ned|zach|eugene|habersberger|fu...     1857018   62192   \n",
       "46140                                             [None]     3694871  210607   \n",
       "46141  Off road recovery|Rescue|Matts off road recove...      728146   31497   \n",
       "46142  espn|#espn|francis ngannou|stipe miocic vs fra...     1614174   16754   \n",
       "46143  jeffree star|good apple foundation|jeffree sta...     2190983   76981   \n",
       "\n",
       "       dislikes  comment_count  \\\n",
       "0          6180          30059   \n",
       "1          2628          40222   \n",
       "2          2794          16549   \n",
       "3          5857          35331   \n",
       "4           964           2198   \n",
       "...         ...            ...   \n",
       "46139      1204           4935   \n",
       "46140     30823           8782   \n",
       "46141       260           3004   \n",
       "46142       683           3269   \n",
       "46143      8018           8722   \n",
       "\n",
       "                                       thumbnail_link  comments_disabled  \\\n",
       "0      https://i.ytimg.com/vi/KX06ksuS6Xo/default.jpg              False   \n",
       "1      https://i.ytimg.com/vi/J78aPJ3VyNs/default.jpg              False   \n",
       "2      https://i.ytimg.com/vi/M9Pmf9AB4Mo/default.jpg              False   \n",
       "3      https://i.ytimg.com/vi/3C66w5Z0ixs/default.jpg              False   \n",
       "4      https://i.ytimg.com/vi/VIUo6yapDbc/default.jpg              False   \n",
       "...                                               ...                ...   \n",
       "46139  https://i.ytimg.com/vi/XLr-ljPTfFs/default.jpg              False   \n",
       "46140  https://i.ytimg.com/vi/bbUt3u7t4y4/default.jpg              False   \n",
       "46141  https://i.ytimg.com/vi/ZqxQ7MBfwyo/default.jpg              False   \n",
       "46142  https://i.ytimg.com/vi/FmZS9j54okg/default.jpg              False   \n",
       "46143  https://i.ytimg.com/vi/BtHhKiQgdeM/default.jpg              False   \n",
       "\n",
       "       ratings_disabled                                        description  \n",
       "0                 False  CLASH official music video performed by DILJIT...  \n",
       "1                 False  I left youtube for a month and this is what ha...  \n",
       "2                 False  While running her own modding shop, Ramya Pare...  \n",
       "3                 False  SUBSCRIBE to BRAWADIS ▶ http://bit.ly/Subscrib...  \n",
       "4                 False  Transforming The LaBrant Family's empty white ...  \n",
       "...                 ...                                                ...  \n",
       "46139             False  Who's ready to eat fresh?! Watch Keith eat eve...  \n",
       "46140             False  Testing the viral apple juice that sounds like...  \n",
       "46141             False  So we're building a Corvair rescue truck and w...  \n",
       "46142             False  Former UFC heavyweight champion Daniel Cormier...  \n",
       "46143             False  HEY EVERYONE... Welcome BACK to my channel!! I...  \n",
       "\n",
       "[46144 rows x 16 columns]"
      ]
     },
     "metadata": {},
     "output_type": "display_data"
    }
   ],
   "source": [
    "# displaying the data\n",
    "display(data)"
   ]
  },
  {
   "cell_type": "code",
   "execution_count": 46,
   "metadata": {
    "id": "FMmzeaepsNHd"
   },
   "outputs": [
    {
     "data": {
      "text/plain": [
       "46144"
      ]
     },
     "execution_count": 46,
     "metadata": {},
     "output_type": "execute_result"
    }
   ],
   "source": [
    "#Count the number of values within the data set\n",
    "data['video_id'].count()"
   ]
  },
  {
   "cell_type": "code",
   "execution_count": 47,
   "metadata": {
    "id": "H3ekO8Q-sRxK"
   },
   "outputs": [
    {
     "data": {
      "text/plain": [
       "8732"
      ]
     },
     "execution_count": 47,
     "metadata": {},
     "output_type": "execute_result"
    }
   ],
   "source": [
    "#Count the number of unique values within the data set\n",
    "data['video_id'].nunique()"
   ]
  },
  {
   "cell_type": "markdown",
   "metadata": {
    "id": "Z_RUODTlmp2d"
   },
   "source": [
    "**DATA MANIPULATION: ADDING DESIRED COLUMNS TO DATA**"
   ]
  },
  {
   "cell_type": "code",
   "execution_count": 48,
   "metadata": {
    "id": "lAsPBrLsvY9z"
   },
   "outputs": [],
   "source": [
    "#Create dataframe\n",
    "df = pd.DataFrame(data)"
   ]
  },
  {
   "cell_type": "code",
   "execution_count": 49,
   "metadata": {
    "colab": {
     "base_uri": "https://localhost:8080/",
     "height": 1000
    },
    "id": "oHqWEZy5mwN-",
    "outputId": "9bc35974-03a7-498b-90ce-bb7027e916d6"
   },
   "outputs": [
    {
     "name": "stderr",
     "output_type": "stream",
     "text": [
      "<ipython-input-49-d90c853edc8e>:13: SettingWithCopyWarning: \n",
      "A value is trying to be set on a copy of a slice from a DataFrame\n",
      "\n",
      "See the caveats in the documentation: https://pandas.pydata.org/pandas-docs/stable/user_guide/indexing.html#returning-a-view-versus-a-copy\n",
      "  df['uppercase_words'][i] = sum(map(str.isupper, df['title'][i].split()))\n"
     ]
    },
    {
     "data": {
      "text/html": [
       "<div>\n",
       "<style scoped>\n",
       "    .dataframe tbody tr th:only-of-type {\n",
       "        vertical-align: middle;\n",
       "    }\n",
       "\n",
       "    .dataframe tbody tr th {\n",
       "        vertical-align: top;\n",
       "    }\n",
       "\n",
       "    .dataframe thead th {\n",
       "        text-align: right;\n",
       "    }\n",
       "</style>\n",
       "<table border=\"1\" class=\"dataframe\">\n",
       "  <thead>\n",
       "    <tr style=\"text-align: right;\">\n",
       "      <th></th>\n",
       "      <th>video_id</th>\n",
       "      <th>title</th>\n",
       "      <th>publishedAt</th>\n",
       "      <th>channelId</th>\n",
       "      <th>channelTitle</th>\n",
       "      <th>categoryId</th>\n",
       "      <th>trending_date</th>\n",
       "      <th>tags</th>\n",
       "      <th>view_count</th>\n",
       "      <th>likes</th>\n",
       "      <th>...</th>\n",
       "      <th>comments_disabled</th>\n",
       "      <th>ratings_disabled</th>\n",
       "      <th>description</th>\n",
       "      <th>likes_percentage</th>\n",
       "      <th>tag_num</th>\n",
       "      <th>uppercase_words</th>\n",
       "      <th>title_sentiment</th>\n",
       "      <th>title_length</th>\n",
       "      <th>days_trending</th>\n",
       "      <th>days_until_first_trending</th>\n",
       "    </tr>\n",
       "  </thead>\n",
       "  <tbody>\n",
       "    <tr>\n",
       "      <th>0</th>\n",
       "      <td>KX06ksuS6Xo</td>\n",
       "      <td>Diljit Dosanjh: CLASH (Official) Music Video |...</td>\n",
       "      <td>2020-08-11</td>\n",
       "      <td>UCZRdNleCgW-BGUJf-bbjzQg</td>\n",
       "      <td>Diljit Dosanjh</td>\n",
       "      <td>10</td>\n",
       "      <td>2020-08-12</td>\n",
       "      <td>clash diljit dosanjh|diljit dosanjh|diljit dos...</td>\n",
       "      <td>9140911</td>\n",
       "      <td>296541</td>\n",
       "      <td>...</td>\n",
       "      <td>False</td>\n",
       "      <td>False</td>\n",
       "      <td>CLASH official music video performed by DILJIT...</td>\n",
       "      <td>0.979585</td>\n",
       "      <td>23</td>\n",
       "      <td>2</td>\n",
       "      <td>0.0000</td>\n",
       "      <td>55</td>\n",
       "      <td>6</td>\n",
       "      <td>1</td>\n",
       "    </tr>\n",
       "    <tr>\n",
       "      <th>1</th>\n",
       "      <td>J78aPJ3VyNs</td>\n",
       "      <td>I left youtube for a month and THIS is what ha...</td>\n",
       "      <td>2020-08-11</td>\n",
       "      <td>UCYzPXprvl5Y-Sf0g4vX-m6g</td>\n",
       "      <td>jacksepticeye</td>\n",
       "      <td>24</td>\n",
       "      <td>2020-08-12</td>\n",
       "      <td>jacksepticeye|funny|funny meme|memes|jacksepti...</td>\n",
       "      <td>2038853</td>\n",
       "      <td>353797</td>\n",
       "      <td>...</td>\n",
       "      <td>False</td>\n",
       "      <td>False</td>\n",
       "      <td>I left youtube for a month and this is what ha...</td>\n",
       "      <td>0.992627</td>\n",
       "      <td>30</td>\n",
       "      <td>2</td>\n",
       "      <td>0.0000</td>\n",
       "      <td>53</td>\n",
       "      <td>6</td>\n",
       "      <td>1</td>\n",
       "    </tr>\n",
       "    <tr>\n",
       "      <th>2</th>\n",
       "      <td>M9Pmf9AB4Mo</td>\n",
       "      <td>Apex Legends | Stories from the Outlands – “Th...</td>\n",
       "      <td>2020-08-11</td>\n",
       "      <td>UC0ZV6M2THA81QT9hrVWJG3A</td>\n",
       "      <td>Apex Legends</td>\n",
       "      <td>20</td>\n",
       "      <td>2020-08-12</td>\n",
       "      <td>Apex Legends|Apex Legends characters|new Apex ...</td>\n",
       "      <td>2381688</td>\n",
       "      <td>146740</td>\n",
       "      <td>...</td>\n",
       "      <td>False</td>\n",
       "      <td>False</td>\n",
       "      <td>While running her own modding shop, Ramya Pare...</td>\n",
       "      <td>0.981315</td>\n",
       "      <td>25</td>\n",
       "      <td>0</td>\n",
       "      <td>0.0000</td>\n",
       "      <td>60</td>\n",
       "      <td>4</td>\n",
       "      <td>1</td>\n",
       "    </tr>\n",
       "    <tr>\n",
       "      <th>3</th>\n",
       "      <td>3C66w5Z0ixs</td>\n",
       "      <td>I ASKED HER TO BE MY GIRLFRIEND...</td>\n",
       "      <td>2020-08-11</td>\n",
       "      <td>UCvtRTOMP2TqYqu51xNrqAzg</td>\n",
       "      <td>Brawadis</td>\n",
       "      <td>22</td>\n",
       "      <td>2020-08-12</td>\n",
       "      <td>brawadis|prank|basketball|skits|ghost|funny vi...</td>\n",
       "      <td>1514614</td>\n",
       "      <td>156914</td>\n",
       "      <td>...</td>\n",
       "      <td>False</td>\n",
       "      <td>False</td>\n",
       "      <td>SUBSCRIBE to BRAWADIS ▶ http://bit.ly/Subscrib...</td>\n",
       "      <td>0.964017</td>\n",
       "      <td>15</td>\n",
       "      <td>7</td>\n",
       "      <td>0.0000</td>\n",
       "      <td>34</td>\n",
       "      <td>6</td>\n",
       "      <td>1</td>\n",
       "    </tr>\n",
       "    <tr>\n",
       "      <th>4</th>\n",
       "      <td>VIUo6yapDbc</td>\n",
       "      <td>Ultimate DIY Home Movie Theater for The LaBran...</td>\n",
       "      <td>2020-08-11</td>\n",
       "      <td>UCDVPcEbVLQgLZX0Rt6jo34A</td>\n",
       "      <td>Mr. Kate</td>\n",
       "      <td>26</td>\n",
       "      <td>2020-08-12</td>\n",
       "      <td>The LaBrant Family|DIY|Interior Design|Makeove...</td>\n",
       "      <td>1123889</td>\n",
       "      <td>45803</td>\n",
       "      <td>...</td>\n",
       "      <td>False</td>\n",
       "      <td>False</td>\n",
       "      <td>Transforming The LaBrant Family's empty white ...</td>\n",
       "      <td>0.979387</td>\n",
       "      <td>33</td>\n",
       "      <td>1</td>\n",
       "      <td>0.0000</td>\n",
       "      <td>55</td>\n",
       "      <td>6</td>\n",
       "      <td>1</td>\n",
       "    </tr>\n",
       "    <tr>\n",
       "      <th>...</th>\n",
       "      <td>...</td>\n",
       "      <td>...</td>\n",
       "      <td>...</td>\n",
       "      <td>...</td>\n",
       "      <td>...</td>\n",
       "      <td>...</td>\n",
       "      <td>...</td>\n",
       "      <td>...</td>\n",
       "      <td>...</td>\n",
       "      <td>...</td>\n",
       "      <td>...</td>\n",
       "      <td>...</td>\n",
       "      <td>...</td>\n",
       "      <td>...</td>\n",
       "      <td>...</td>\n",
       "      <td>...</td>\n",
       "      <td>...</td>\n",
       "      <td>...</td>\n",
       "      <td>...</td>\n",
       "      <td>...</td>\n",
       "      <td>...</td>\n",
       "    </tr>\n",
       "    <tr>\n",
       "      <th>46139</th>\n",
       "      <td>XLr-ljPTfFs</td>\n",
       "      <td>Keith Eats Everything At Subway</td>\n",
       "      <td>2021-03-27</td>\n",
       "      <td>UCpi8TJfiA4lKGkaXs__YdBA</td>\n",
       "      <td>The Try Guys</td>\n",
       "      <td>23</td>\n",
       "      <td>2021-04-03</td>\n",
       "      <td>try guys|keith|ned|zach|eugene|habersberger|fu...</td>\n",
       "      <td>1857018</td>\n",
       "      <td>62192</td>\n",
       "      <td>...</td>\n",
       "      <td>False</td>\n",
       "      <td>False</td>\n",
       "      <td>Who's ready to eat fresh?! Watch Keith eat eve...</td>\n",
       "      <td>0.981008</td>\n",
       "      <td>35</td>\n",
       "      <td>0</td>\n",
       "      <td>0.0000</td>\n",
       "      <td>31</td>\n",
       "      <td>7</td>\n",
       "      <td>1</td>\n",
       "    </tr>\n",
       "    <tr>\n",
       "      <th>46140</th>\n",
       "      <td>bbUt3u7t4y4</td>\n",
       "      <td>Testing the viral apple juice that sounds like...</td>\n",
       "      <td>2021-03-05</td>\n",
       "      <td>UCsmvyN1ioujLMALHNKVnsSA</td>\n",
       "      <td>Ariana Lee</td>\n",
       "      <td>26</td>\n",
       "      <td>2021-04-03</td>\n",
       "      <td>[None]</td>\n",
       "      <td>3694871</td>\n",
       "      <td>210607</td>\n",
       "      <td>...</td>\n",
       "      <td>False</td>\n",
       "      <td>False</td>\n",
       "      <td>Testing the viral apple juice that sounds like...</td>\n",
       "      <td>0.872332</td>\n",
       "      <td>1</td>\n",
       "      <td>0</td>\n",
       "      <td>0.4199</td>\n",
       "      <td>64</td>\n",
       "      <td>7</td>\n",
       "      <td>23</td>\n",
       "    </tr>\n",
       "    <tr>\n",
       "      <th>46141</th>\n",
       "      <td>ZqxQ7MBfwyo</td>\n",
       "      <td>We Finally Take The Corvair Off Road.</td>\n",
       "      <td>2021-03-28</td>\n",
       "      <td>UCwdVOry0oNF9WIe_3uCfz9Q</td>\n",
       "      <td>Matt's Off Road Recovery</td>\n",
       "      <td>2</td>\n",
       "      <td>2021-04-03</td>\n",
       "      <td>Off road recovery|Rescue|Matts off road recove...</td>\n",
       "      <td>728146</td>\n",
       "      <td>31497</td>\n",
       "      <td>...</td>\n",
       "      <td>False</td>\n",
       "      <td>False</td>\n",
       "      <td>So we're building a Corvair rescue truck and w...</td>\n",
       "      <td>0.991813</td>\n",
       "      <td>34</td>\n",
       "      <td>0</td>\n",
       "      <td>0.0000</td>\n",
       "      <td>37</td>\n",
       "      <td>6</td>\n",
       "      <td>1</td>\n",
       "    </tr>\n",
       "    <tr>\n",
       "      <th>46142</th>\n",
       "      <td>FmZS9j54okg</td>\n",
       "      <td>Daniel Cormier reacts to Francis Ngannou's KO ...</td>\n",
       "      <td>2021-03-28</td>\n",
       "      <td>UCiWLfSweyRNmLpgEHekhoAg</td>\n",
       "      <td>ESPN</td>\n",
       "      <td>17</td>\n",
       "      <td>2021-04-03</td>\n",
       "      <td>espn|#espn|francis ngannou|stipe miocic vs fra...</td>\n",
       "      <td>1614174</td>\n",
       "      <td>16754</td>\n",
       "      <td>...</td>\n",
       "      <td>False</td>\n",
       "      <td>False</td>\n",
       "      <td>Former UFC heavyweight champion Daniel Cormier...</td>\n",
       "      <td>0.960830</td>\n",
       "      <td>28</td>\n",
       "      <td>2</td>\n",
       "      <td>0.0000</td>\n",
       "      <td>87</td>\n",
       "      <td>6</td>\n",
       "      <td>1</td>\n",
       "    </tr>\n",
       "    <tr>\n",
       "      <th>46143</th>\n",
       "      <td>BtHhKiQgdeM</td>\n",
       "      <td>KVD Good Apple Foundation… Is It Jeffree Star ...</td>\n",
       "      <td>2021-03-27</td>\n",
       "      <td>UCkvK_5omS-42Ovgah8KRKtg</td>\n",
       "      <td>jeffreestar</td>\n",
       "      <td>26</td>\n",
       "      <td>2021-04-03</td>\n",
       "      <td>jeffree star|good apple foundation|jeffree sta...</td>\n",
       "      <td>2190983</td>\n",
       "      <td>76981</td>\n",
       "      <td>...</td>\n",
       "      <td>False</td>\n",
       "      <td>False</td>\n",
       "      <td>HEY EVERYONE... Welcome BACK to my channel!! I...</td>\n",
       "      <td>0.905669</td>\n",
       "      <td>16</td>\n",
       "      <td>1</td>\n",
       "      <td>0.4926</td>\n",
       "      <td>56</td>\n",
       "      <td>7</td>\n",
       "      <td>1</td>\n",
       "    </tr>\n",
       "  </tbody>\n",
       "</table>\n",
       "<p>46144 rows × 23 columns</p>\n",
       "</div>"
      ],
      "text/plain": [
       "          video_id                                              title  \\\n",
       "0      KX06ksuS6Xo  Diljit Dosanjh: CLASH (Official) Music Video |...   \n",
       "1      J78aPJ3VyNs  I left youtube for a month and THIS is what ha...   \n",
       "2      M9Pmf9AB4Mo  Apex Legends | Stories from the Outlands – “Th...   \n",
       "3      3C66w5Z0ixs                 I ASKED HER TO BE MY GIRLFRIEND...   \n",
       "4      VIUo6yapDbc  Ultimate DIY Home Movie Theater for The LaBran...   \n",
       "...            ...                                                ...   \n",
       "46139  XLr-ljPTfFs                    Keith Eats Everything At Subway   \n",
       "46140  bbUt3u7t4y4  Testing the viral apple juice that sounds like...   \n",
       "46141  ZqxQ7MBfwyo              We Finally Take The Corvair Off Road.   \n",
       "46142  FmZS9j54okg  Daniel Cormier reacts to Francis Ngannou's KO ...   \n",
       "46143  BtHhKiQgdeM  KVD Good Apple Foundation… Is It Jeffree Star ...   \n",
       "\n",
       "      publishedAt                 channelId              channelTitle  \\\n",
       "0      2020-08-11  UCZRdNleCgW-BGUJf-bbjzQg            Diljit Dosanjh   \n",
       "1      2020-08-11  UCYzPXprvl5Y-Sf0g4vX-m6g             jacksepticeye   \n",
       "2      2020-08-11  UC0ZV6M2THA81QT9hrVWJG3A              Apex Legends   \n",
       "3      2020-08-11  UCvtRTOMP2TqYqu51xNrqAzg                  Brawadis   \n",
       "4      2020-08-11  UCDVPcEbVLQgLZX0Rt6jo34A                  Mr. Kate   \n",
       "...           ...                       ...                       ...   \n",
       "46139  2021-03-27  UCpi8TJfiA4lKGkaXs__YdBA              The Try Guys   \n",
       "46140  2021-03-05  UCsmvyN1ioujLMALHNKVnsSA                Ariana Lee   \n",
       "46141  2021-03-28  UCwdVOry0oNF9WIe_3uCfz9Q  Matt's Off Road Recovery   \n",
       "46142  2021-03-28  UCiWLfSweyRNmLpgEHekhoAg                      ESPN   \n",
       "46143  2021-03-27  UCkvK_5omS-42Ovgah8KRKtg               jeffreestar   \n",
       "\n",
       "       categoryId trending_date  \\\n",
       "0              10    2020-08-12   \n",
       "1              24    2020-08-12   \n",
       "2              20    2020-08-12   \n",
       "3              22    2020-08-12   \n",
       "4              26    2020-08-12   \n",
       "...           ...           ...   \n",
       "46139          23    2021-04-03   \n",
       "46140          26    2021-04-03   \n",
       "46141           2    2021-04-03   \n",
       "46142          17    2021-04-03   \n",
       "46143          26    2021-04-03   \n",
       "\n",
       "                                                    tags  view_count   likes  \\\n",
       "0      clash diljit dosanjh|diljit dosanjh|diljit dos...     9140911  296541   \n",
       "1      jacksepticeye|funny|funny meme|memes|jacksepti...     2038853  353797   \n",
       "2      Apex Legends|Apex Legends characters|new Apex ...     2381688  146740   \n",
       "3      brawadis|prank|basketball|skits|ghost|funny vi...     1514614  156914   \n",
       "4      The LaBrant Family|DIY|Interior Design|Makeove...     1123889   45803   \n",
       "...                                                  ...         ...     ...   \n",
       "46139  try guys|keith|ned|zach|eugene|habersberger|fu...     1857018   62192   \n",
       "46140                                             [None]     3694871  210607   \n",
       "46141  Off road recovery|Rescue|Matts off road recove...      728146   31497   \n",
       "46142  espn|#espn|francis ngannou|stipe miocic vs fra...     1614174   16754   \n",
       "46143  jeffree star|good apple foundation|jeffree sta...     2190983   76981   \n",
       "\n",
       "       ...  comments_disabled  ratings_disabled  \\\n",
       "0      ...              False             False   \n",
       "1      ...              False             False   \n",
       "2      ...              False             False   \n",
       "3      ...              False             False   \n",
       "4      ...              False             False   \n",
       "...    ...                ...               ...   \n",
       "46139  ...              False             False   \n",
       "46140  ...              False             False   \n",
       "46141  ...              False             False   \n",
       "46142  ...              False             False   \n",
       "46143  ...              False             False   \n",
       "\n",
       "                                             description  likes_percentage  \\\n",
       "0      CLASH official music video performed by DILJIT...          0.979585   \n",
       "1      I left youtube for a month and this is what ha...          0.992627   \n",
       "2      While running her own modding shop, Ramya Pare...          0.981315   \n",
       "3      SUBSCRIBE to BRAWADIS ▶ http://bit.ly/Subscrib...          0.964017   \n",
       "4      Transforming The LaBrant Family's empty white ...          0.979387   \n",
       "...                                                  ...               ...   \n",
       "46139  Who's ready to eat fresh?! Watch Keith eat eve...          0.981008   \n",
       "46140  Testing the viral apple juice that sounds like...          0.872332   \n",
       "46141  So we're building a Corvair rescue truck and w...          0.991813   \n",
       "46142  Former UFC heavyweight champion Daniel Cormier...          0.960830   \n",
       "46143  HEY EVERYONE... Welcome BACK to my channel!! I...          0.905669   \n",
       "\n",
       "       tag_num uppercase_words  title_sentiment  title_length  days_trending  \\\n",
       "0           23               2           0.0000            55              6   \n",
       "1           30               2           0.0000            53              6   \n",
       "2           25               0           0.0000            60              4   \n",
       "3           15               7           0.0000            34              6   \n",
       "4           33               1           0.0000            55              6   \n",
       "...        ...             ...              ...           ...            ...   \n",
       "46139       35               0           0.0000            31              7   \n",
       "46140        1               0           0.4199            64              7   \n",
       "46141       34               0           0.0000            37              6   \n",
       "46142       28               2           0.0000            87              6   \n",
       "46143       16               1           0.4926            56              7   \n",
       "\n",
       "       days_until_first_trending  \n",
       "0                              1  \n",
       "1                              1  \n",
       "2                              1  \n",
       "3                              1  \n",
       "4                              1  \n",
       "...                          ...  \n",
       "46139                          1  \n",
       "46140                         23  \n",
       "46141                          1  \n",
       "46142                          1  \n",
       "46143                          1  \n",
       "\n",
       "[46144 rows x 23 columns]"
      ]
     },
     "metadata": {},
     "output_type": "display_data"
    }
   ],
   "source": [
    "#Adding new columns to dataframe\n",
    "\n",
    "#Engagement ratio percent\n",
    "df['likes_percentage'] = df['likes'].divide(df[['likes', 'dislikes']].sum(axis=1))\n",
    "df['likes_percentage'] = df['likes_percentage'].fillna(0)\n",
    "\n",
    "#Number of tags column\n",
    "df['tag_num'] = df['tags'].apply(lambda x: len(x.split('|')) if x != '[none]' else 0)\n",
    "\n",
    "#Number of uppercase words in title column (code still works despite warning. Please disregard it.)\n",
    "df['uppercase_words'] = \"\"\n",
    "for i in range(0,46144):\n",
    "  df['uppercase_words'][i] = sum(map(str.isupper, df['title'][i].split()))\n",
    "df['uppercase_words'] = df['uppercase_words'].astype(str).astype(int)\n",
    "\n",
    "#title sentiment analysis column\n",
    "df['title_sentiment'] = [vds.polarity_scores(x)['compound'] for x in df['title']]\n",
    "\n",
    "#title length column\n",
    "df['title_length'] = df[\"title\"].apply(lambda x: len(x))\n",
    "\n",
    "#ADDING DAYS VIDEO IS TRENDING COLUMN\n",
    "df['days_trending'] = df.groupby(['video_id'])['title'].transform('count')\n",
    "\n",
    "#ADDING DAYS UNTIL VIDEO IS TRENDING COLUMN\n",
    "#df['days_to_get_trending']=df.groupby('video_id')['trending_date','publishedAt'].transform('count')\n",
    "df['trending_date'] = data['trending_date'].str.slice(0,10,1)\n",
    "df['trending_date'] = pd.to_datetime(df['trending_date'])\n",
    "df['publishedAt'] = data['publishedAt'].str.slice(0,10,1)\n",
    "df['publishedAt'] = pd.to_datetime(df['publishedAt'])\n",
    "\n",
    "df['days_until_first_trending'] = df['trending_date'].sub(df['publishedAt'], axis=0)\n",
    "df['days_until_first_trending'] = df['days_until_first_trending'].dt.days\n",
    "df['days_until_first_trending'] = df['days_until_first_trending'].astype(int)\n",
    "df['days_until_first_trending'] = df.groupby(['video_id'])['days_until_first_trending'].transform('min')\n",
    "\n",
    "#display newly formated data\n",
    "display(df)"
   ]
  },
  {
   "cell_type": "code",
   "execution_count": 50,
   "metadata": {
    "id": "fcsSIwOAYVLE"
   },
   "outputs": [],
   "source": [
    "#Droping duplicate entries\n",
    "unique_df = df.drop_duplicates(subset=['video_id'], keep = \"first\")"
   ]
  },
  {
   "cell_type": "code",
   "execution_count": 51,
   "metadata": {
    "colab": {
     "base_uri": "https://localhost:8080/",
     "height": 419
    },
    "id": "h-PQj0MEEKiu",
    "outputId": "b3c8b67c-d300-4457-f7a5-ac9f8e7d987d"
   },
   "outputs": [
    {
     "data": {
      "text/html": [
       "<div>\n",
       "<style scoped>\n",
       "    .dataframe tbody tr th:only-of-type {\n",
       "        vertical-align: middle;\n",
       "    }\n",
       "\n",
       "    .dataframe tbody tr th {\n",
       "        vertical-align: top;\n",
       "    }\n",
       "\n",
       "    .dataframe thead th {\n",
       "        text-align: right;\n",
       "    }\n",
       "</style>\n",
       "<table border=\"1\" class=\"dataframe\">\n",
       "  <thead>\n",
       "    <tr style=\"text-align: right;\">\n",
       "      <th></th>\n",
       "      <th>video_id</th>\n",
       "      <th>title</th>\n",
       "      <th>days_trending</th>\n",
       "    </tr>\n",
       "  </thead>\n",
       "  <tbody>\n",
       "    <tr>\n",
       "      <th>28194</th>\n",
       "      <td>Bbyftsl7Owo</td>\n",
       "      <td>Best Friends Buy Each Other Christmas Gifts!</td>\n",
       "      <td>11</td>\n",
       "    </tr>\n",
       "    <tr>\n",
       "      <th>28196</th>\n",
       "      <td>I9RC_DANDAM</td>\n",
       "      <td>Best Friends Play White Elephant | Dixie D'Amelio</td>\n",
       "      <td>11</td>\n",
       "    </tr>\n",
       "    <tr>\n",
       "      <th>37942</th>\n",
       "      <td>aXzVF3XeS8M</td>\n",
       "      <td>Taylor Swift - Love Story (Taylor’s Version) [...</td>\n",
       "      <td>10</td>\n",
       "    </tr>\n",
       "    <tr>\n",
       "      <th>44932</th>\n",
       "      <td>tQ0yjYUFKAE</td>\n",
       "      <td>Justin Bieber - Peaches ft. Daniel Caesar, Giveon</td>\n",
       "      <td>10</td>\n",
       "    </tr>\n",
       "    <tr>\n",
       "      <th>28189</th>\n",
       "      <td>1iqpSrNVjYQ</td>\n",
       "      <td>Did Dream Fake His Speedrun - RESPONSE</td>\n",
       "      <td>10</td>\n",
       "    </tr>\n",
       "    <tr>\n",
       "      <th>...</th>\n",
       "      <td>...</td>\n",
       "      <td>...</td>\n",
       "      <td>...</td>\n",
       "    </tr>\n",
       "    <tr>\n",
       "      <th>7428</th>\n",
       "      <td>hZxrSnh0ThE</td>\n",
       "      <td>HEAT at CELTICS | FULL GAME HIGHLIGHTS | Septe...</td>\n",
       "      <td>1</td>\n",
       "    </tr>\n",
       "    <tr>\n",
       "      <th>182</th>\n",
       "      <td>D-ocerKPufk</td>\n",
       "      <td>The Kid LAROI - SELFISH (Official Video)</td>\n",
       "      <td>1</td>\n",
       "    </tr>\n",
       "    <tr>\n",
       "      <th>45963</th>\n",
       "      <td>QwSzgVycmNw</td>\n",
       "      <td>What's closing, remaining open during Ontario'...</td>\n",
       "      <td>1</td>\n",
       "    </tr>\n",
       "    <tr>\n",
       "      <th>177</th>\n",
       "      <td>KKPDREbthbs</td>\n",
       "      <td>Sancho Dortmund Transfer Update! Man Utd Trans...</td>\n",
       "      <td>1</td>\n",
       "    </tr>\n",
       "    <tr>\n",
       "      <th>22425</th>\n",
       "      <td>l0XET6OK64U</td>\n",
       "      <td>Where Are You Christmas (From Dr. Seuss' How T...</td>\n",
       "      <td>1</td>\n",
       "    </tr>\n",
       "  </tbody>\n",
       "</table>\n",
       "<p>8732 rows × 3 columns</p>\n",
       "</div>"
      ],
      "text/plain": [
       "          video_id                                              title  \\\n",
       "28194  Bbyftsl7Owo       Best Friends Buy Each Other Christmas Gifts!   \n",
       "28196  I9RC_DANDAM  Best Friends Play White Elephant | Dixie D'Amelio   \n",
       "37942  aXzVF3XeS8M  Taylor Swift - Love Story (Taylor’s Version) [...   \n",
       "44932  tQ0yjYUFKAE  Justin Bieber - Peaches ft. Daniel Caesar, Giveon   \n",
       "28189  1iqpSrNVjYQ             Did Dream Fake His Speedrun - RESPONSE   \n",
       "...            ...                                                ...   \n",
       "7428   hZxrSnh0ThE  HEAT at CELTICS | FULL GAME HIGHLIGHTS | Septe...   \n",
       "182    D-ocerKPufk           The Kid LAROI - SELFISH (Official Video)   \n",
       "45963  QwSzgVycmNw  What's closing, remaining open during Ontario'...   \n",
       "177    KKPDREbthbs  Sancho Dortmund Transfer Update! Man Utd Trans...   \n",
       "22425  l0XET6OK64U  Where Are You Christmas (From Dr. Seuss' How T...   \n",
       "\n",
       "       days_trending  \n",
       "28194             11  \n",
       "28196             11  \n",
       "37942             10  \n",
       "44932             10  \n",
       "28189             10  \n",
       "...              ...  \n",
       "7428               1  \n",
       "182                1  \n",
       "45963              1  \n",
       "177                1  \n",
       "22425              1  \n",
       "\n",
       "[8732 rows x 3 columns]"
      ]
     },
     "metadata": {},
     "output_type": "display_data"
    }
   ],
   "source": [
    "#Get the top number of days on trending\n",
    "days_trending_df = df.sort_values(by = [ 'view_count' ], ascending = False).drop_duplicates(subset=['video_id'])\n",
    "days_trending_df = days_trending_df.sort_values(by = ['days_trending'], ascending = False)\n",
    "display(days_trending_df[['video_id', 'title', 'days_trending']])"
   ]
  },
  {
   "cell_type": "markdown",
   "metadata": {
    "id": "EDtfC70LQ12y"
   },
   "source": [
    "### **Exploratory Data Analysis**"
   ]
  },
  {
   "cell_type": "code",
   "execution_count": 52,
   "metadata": {
    "id": "AER04vO8Kbdt"
   },
   "outputs": [],
   "source": [
    "%matplotlib inline\n",
    "# Parameters for figures\n",
    "plt.rcParams['axes.labelsize'] = 14\n",
    "plt.rcParams['xtick.labelsize'] = 12\n",
    "plt.rcParams['ytick.labelsize'] = 12"
   ]
  },
  {
   "cell_type": "code",
   "execution_count": 53,
   "metadata": {
    "colab": {
     "base_uri": "https://localhost:8080/",
     "height": 297
    },
    "id": "PnlSxgacTDkK",
    "outputId": "2b84e97c-b7fb-4e9a-b612-4ddbb27c1f73"
   },
   "outputs": [
    {
     "data": {
      "text/html": [
       "<div>\n",
       "<style scoped>\n",
       "    .dataframe tbody tr th:only-of-type {\n",
       "        vertical-align: middle;\n",
       "    }\n",
       "\n",
       "    .dataframe tbody tr th {\n",
       "        vertical-align: top;\n",
       "    }\n",
       "\n",
       "    .dataframe thead th {\n",
       "        text-align: right;\n",
       "    }\n",
       "</style>\n",
       "<table border=\"1\" class=\"dataframe\">\n",
       "  <thead>\n",
       "    <tr style=\"text-align: right;\">\n",
       "      <th></th>\n",
       "      <th>categoryId</th>\n",
       "      <th>view_count</th>\n",
       "      <th>likes</th>\n",
       "      <th>dislikes</th>\n",
       "      <th>comment_count</th>\n",
       "      <th>likes_percentage</th>\n",
       "      <th>tag_num</th>\n",
       "      <th>uppercase_words</th>\n",
       "      <th>title_sentiment</th>\n",
       "      <th>title_length</th>\n",
       "      <th>days_trending</th>\n",
       "      <th>days_until_first_trending</th>\n",
       "    </tr>\n",
       "  </thead>\n",
       "  <tbody>\n",
       "    <tr>\n",
       "      <th>count</th>\n",
       "      <td>8732.000000</td>\n",
       "      <td>8.732000e+03</td>\n",
       "      <td>8.732000e+03</td>\n",
       "      <td>8732.000000</td>\n",
       "      <td>8.732000e+03</td>\n",
       "      <td>8732.000000</td>\n",
       "      <td>8732.000000</td>\n",
       "      <td>8732.000000</td>\n",
       "      <td>8732.000000</td>\n",
       "      <td>8732.000000</td>\n",
       "      <td>8732.000000</td>\n",
       "      <td>8732.000000</td>\n",
       "    </tr>\n",
       "    <tr>\n",
       "      <th>mean</th>\n",
       "      <td>19.158956</td>\n",
       "      <td>1.222552e+06</td>\n",
       "      <td>9.537696e+04</td>\n",
       "      <td>1612.168919</td>\n",
       "      <td>9.424114e+03</td>\n",
       "      <td>0.962938</td>\n",
       "      <td>17.494388</td>\n",
       "      <td>1.394411</td>\n",
       "      <td>0.022868</td>\n",
       "      <td>51.456024</td>\n",
       "      <td>5.284471</td>\n",
       "      <td>1.380554</td>\n",
       "    </tr>\n",
       "    <tr>\n",
       "      <th>std</th>\n",
       "      <td>6.881487</td>\n",
       "      <td>2.476443e+06</td>\n",
       "      <td>2.483660e+05</td>\n",
       "      <td>7402.441663</td>\n",
       "      <td>5.507186e+04</td>\n",
       "      <td>0.101228</td>\n",
       "      <td>12.441607</td>\n",
       "      <td>2.062744</td>\n",
       "      <td>0.309739</td>\n",
       "      <td>20.699264</td>\n",
       "      <td>1.578307</td>\n",
       "      <td>1.481935</td>\n",
       "    </tr>\n",
       "    <tr>\n",
       "      <th>min</th>\n",
       "      <td>1.000000</td>\n",
       "      <td>1.581900e+04</td>\n",
       "      <td>0.000000e+00</td>\n",
       "      <td>0.000000</td>\n",
       "      <td>0.000000e+00</td>\n",
       "      <td>0.000000</td>\n",
       "      <td>1.000000</td>\n",
       "      <td>0.000000</td>\n",
       "      <td>-0.930000</td>\n",
       "      <td>2.000000</td>\n",
       "      <td>1.000000</td>\n",
       "      <td>0.000000</td>\n",
       "    </tr>\n",
       "    <tr>\n",
       "      <th>25%</th>\n",
       "      <td>17.000000</td>\n",
       "      <td>2.883265e+05</td>\n",
       "      <td>1.277325e+04</td>\n",
       "      <td>204.000000</td>\n",
       "      <td>1.143000e+03</td>\n",
       "      <td>0.971039</td>\n",
       "      <td>7.000000</td>\n",
       "      <td>0.000000</td>\n",
       "      <td>0.000000</td>\n",
       "      <td>37.000000</td>\n",
       "      <td>4.000000</td>\n",
       "      <td>1.000000</td>\n",
       "    </tr>\n",
       "    <tr>\n",
       "      <th>50%</th>\n",
       "      <td>22.000000</td>\n",
       "      <td>5.776170e+05</td>\n",
       "      <td>3.400750e+04</td>\n",
       "      <td>491.500000</td>\n",
       "      <td>2.745000e+03</td>\n",
       "      <td>0.985220</td>\n",
       "      <td>17.000000</td>\n",
       "      <td>1.000000</td>\n",
       "      <td>0.000000</td>\n",
       "      <td>49.000000</td>\n",
       "      <td>5.000000</td>\n",
       "      <td>1.000000</td>\n",
       "    </tr>\n",
       "    <tr>\n",
       "      <th>75%</th>\n",
       "      <td>24.000000</td>\n",
       "      <td>1.234649e+06</td>\n",
       "      <td>8.410900e+04</td>\n",
       "      <td>1265.000000</td>\n",
       "      <td>6.754750e+03</td>\n",
       "      <td>0.992003</td>\n",
       "      <td>26.000000</td>\n",
       "      <td>2.000000</td>\n",
       "      <td>0.000000</td>\n",
       "      <td>64.000000</td>\n",
       "      <td>6.000000</td>\n",
       "      <td>2.000000</td>\n",
       "    </tr>\n",
       "    <tr>\n",
       "      <th>max</th>\n",
       "      <td>29.000000</td>\n",
       "      <td>7.680503e+07</td>\n",
       "      <td>7.046462e+06</td>\n",
       "      <td>405397.000000</td>\n",
       "      <td>2.308306e+06</td>\n",
       "      <td>1.000000</td>\n",
       "      <td>79.000000</td>\n",
       "      <td>18.000000</td>\n",
       "      <td>0.932500</td>\n",
       "      <td>100.000000</td>\n",
       "      <td>11.000000</td>\n",
       "      <td>31.000000</td>\n",
       "    </tr>\n",
       "  </tbody>\n",
       "</table>\n",
       "</div>"
      ],
      "text/plain": [
       "        categoryId    view_count         likes       dislikes  comment_count  \\\n",
       "count  8732.000000  8.732000e+03  8.732000e+03    8732.000000   8.732000e+03   \n",
       "mean     19.158956  1.222552e+06  9.537696e+04    1612.168919   9.424114e+03   \n",
       "std       6.881487  2.476443e+06  2.483660e+05    7402.441663   5.507186e+04   \n",
       "min       1.000000  1.581900e+04  0.000000e+00       0.000000   0.000000e+00   \n",
       "25%      17.000000  2.883265e+05  1.277325e+04     204.000000   1.143000e+03   \n",
       "50%      22.000000  5.776170e+05  3.400750e+04     491.500000   2.745000e+03   \n",
       "75%      24.000000  1.234649e+06  8.410900e+04    1265.000000   6.754750e+03   \n",
       "max      29.000000  7.680503e+07  7.046462e+06  405397.000000   2.308306e+06   \n",
       "\n",
       "       likes_percentage      tag_num  uppercase_words  title_sentiment  \\\n",
       "count       8732.000000  8732.000000      8732.000000      8732.000000   \n",
       "mean           0.962938    17.494388         1.394411         0.022868   \n",
       "std            0.101228    12.441607         2.062744         0.309739   \n",
       "min            0.000000     1.000000         0.000000        -0.930000   \n",
       "25%            0.971039     7.000000         0.000000         0.000000   \n",
       "50%            0.985220    17.000000         1.000000         0.000000   \n",
       "75%            0.992003    26.000000         2.000000         0.000000   \n",
       "max            1.000000    79.000000        18.000000         0.932500   \n",
       "\n",
       "       title_length  days_trending  days_until_first_trending  \n",
       "count   8732.000000    8732.000000                8732.000000  \n",
       "mean      51.456024       5.284471                   1.380554  \n",
       "std       20.699264       1.578307                   1.481935  \n",
       "min        2.000000       1.000000                   0.000000  \n",
       "25%       37.000000       4.000000                   1.000000  \n",
       "50%       49.000000       5.000000                   1.000000  \n",
       "75%       64.000000       6.000000                   2.000000  \n",
       "max      100.000000      11.000000                  31.000000  "
      ]
     },
     "execution_count": 53,
     "metadata": {},
     "output_type": "execute_result"
    }
   ],
   "source": [
    "#summary stats\n",
    "unique_df.describe()"
   ]
  },
  {
   "cell_type": "code",
   "execution_count": 54,
   "metadata": {
    "colab": {
     "base_uri": "https://localhost:8080/",
     "height": 360
    },
    "id": "qU6GxPmF3CrQ",
    "outputId": "1cee3ad8-eda2-4bd0-b848-295739dd2ca9"
   },
   "outputs": [
    {
     "data": {
      "image/png": "[encoded data removed]",
      "text/plain": [
       "<Figure size 1080x288 with 1 Axes>"
      ]
     },
     "metadata": {
      "needs_background": "light"
     },
     "output_type": "display_data"
    }
   ],
   "source": [
    "#How many views a video has when it first becomes trending\n",
    "bin_list = []\n",
    "for x in range(0,100000000,2500000):\n",
    "  bin_list.append(x)\n",
    "\n",
    "ax = unique_df['view_count'].plot.hist(figsize=(15,4), bins=bin_list, log=True, lw=1, ec='lightgray')\n",
    "ax.yaxis.set_major_formatter(ticker.StrMethodFormatter('{x:,.0f}'))\n",
    "def millions(x, pos):\n",
    "    return '{}M'.format(int(x / 1000000))\n",
    "ax.xaxis.set_major_locator(ticker.MultipleLocator(5000000))\n",
    "ax.xaxis.set_major_formatter(ticker.FuncFormatter(millions))\n",
    "ax.set_xlabel('Number of Views', axes=ax)\n",
    "ax.set_ylabel('Number of Videos (log scale)', axes=ax)\n",
    "ax.set_title('Number of Views Videos Have When They First Become Trending',fontsize=16)\n",
    "\n",
    "x_offset = 0.01\n",
    "y_offset = 0.01\n",
    "for p in ax.patches:\n",
    "    b = p.get_bbox()\n",
    "    val = \"{:.0f}\".format(b.y1 + b.y0)        \n",
    "    ax.annotate(val, ((b.x0 + b.x1)/2 + x_offset, b.y1 + y_offset))\n",
    "\n",
    "plt.show()"
   ]
  },
  {
   "cell_type": "code",
   "execution_count": 55,
   "metadata": {
    "colab": {
     "base_uri": "https://localhost:8080/",
     "height": 297
    },
    "id": "W3CKGgRv85xu",
    "outputId": "7be7158a-0c9a-4476-cd8a-3f8303732fac"
   },
   "outputs": [
    {
     "data": {
      "image/png": "[encoded data removed]",
      "text/plain": [
       "<Figure size 1080x288 with 1 Axes>"
      ]
     },
     "metadata": {
      "needs_background": "light"
     },
     "output_type": "display_data"
    }
   ],
   "source": [
    "#How many views a video has when it first becomes trending (ZOOMED IN)\n",
    "bin_list2 = []\n",
    "for x in range(0,2500000,100000):\n",
    "  bin_list2.append(x)\n",
    "\n",
    "ax = unique_df['view_count'].plot.hist(figsize=(15,4), bins=bin_list2, log=False, lw=1, ec='lightgray')\n",
    "ax.yaxis.set_major_formatter(ticker.StrMethodFormatter('{x:,.0f}'))\n",
    "def millions(x, pos):\n",
    "    return '{:.1f}M'.format(float(x / 1000000))\n",
    "ax.xaxis.set_major_locator(ticker.MultipleLocator(200000))\n",
    "ax.xaxis.set_major_formatter(ticker.FuncFormatter(millions))\n",
    "ax.set_xlabel('Number of Views', axes=ax)\n",
    "ax.set_ylabel('Number of Videos', axes=ax)\n",
    "ax.set_title('Number of Views Videos Have When They First Become Trending',fontsize=16)\n",
    "\n",
    "for p in ax.patches:\n",
    "    ax.annotate(int(p.get_height()), (p.get_x() * 1.005, p.get_height() * 1.005),fontsize=10)\n",
    "    \n",
    "plt.show()"
   ]
  },
  {
   "cell_type": "code",
   "execution_count": 56,
   "metadata": {
    "colab": {
     "base_uri": "https://localhost:8080/",
     "height": 351
    },
    "id": "HsnfJ2naQlJ5",
    "outputId": "086b5dc5-3eda-4fe3-d00c-9bab006a0a6e"
   },
   "outputs": [
    {
     "name": "stderr",
     "output_type": "stream",
     "text": [
      "/Users/Admin/opt/anaconda3/lib/python3.8/site-packages/seaborn/_decorators.py:36: FutureWarning: Pass the following variable as a keyword arg: x. From version 0.12, the only valid positional argument will be `data`, and passing other arguments without an explicit keyword will result in an error or misinterpretation.\n",
      "  warnings.warn(\n"
     ]
    },
    {
     "data": {
      "image/png": "[encoded data removed]",
      "text/plain": [
       "<Figure size 1080x288 with 1 Axes>"
      ]
     },
     "metadata": {
      "needs_background": "light"
     },
     "output_type": "display_data"
    }
   ],
   "source": [
    "#title length distribution\n",
    "fig, ax = plt.subplots(figsize=(15,4))\n",
    "sns.boxplot(unique_df['title_length'])\n",
    "ax.xaxis.set_major_locator(ticker.MultipleLocator(10))\n",
    "ax.set_title('Title Length of Trending Videos',fontsize=16)\n",
    "ax.set_xlabel('Title Length')\n",
    "\n",
    "plt.show()"
   ]
  },
  {
   "cell_type": "code",
   "execution_count": 57,
   "metadata": {
    "colab": {
     "base_uri": "https://localhost:8080/",
     "height": 301
    },
    "id": "38h1LkqwKM5D",
    "outputId": "f2737b3a-93fa-4068-9106-657ade700e66"
   },
   "outputs": [
    {
     "name": "stdout",
     "output_type": "stream",
     "text": [
      "Overall average title length = 51.4560238204306\n"
     ]
    },
    {
     "data": {
      "image/png": "[encoded data removed]",
      "text/plain": [
       "<Figure size 432x288 with 1 Axes>"
      ]
     },
     "metadata": {
      "needs_background": "light"
     },
     "output_type": "display_data"
    }
   ],
   "source": [
    "#Days trending vs average title length\n",
    "avg_title_length = unique_df.groupby('days_trending', as_index=False)['title_length'].mean()\n",
    "avg_title_length.plot.bar(x = 'days_trending', y = 'title_length', rot=0)\n",
    "plt.ylim([40,60])\n",
    "\n",
    "overall_ts_avg = unique_df['title_length'].mean()\n",
    "print('Overall average title length =', overall_ts_avg)"
   ]
  },
  {
   "cell_type": "code",
   "execution_count": 58,
   "metadata": {
    "colab": {
     "base_uri": "https://localhost:8080/",
     "height": 303
    },
    "id": "7QQ_Pwz9H0RC",
    "outputId": "8d8404ce-4dd4-4bf8-e129-2dbf9b76a2e8"
   },
   "outputs": [
    {
     "name": "stdout",
     "output_type": "stream",
     "text": [
      "Overall average title sentiment = 0.022868483737975412\n"
     ]
    },
    {
     "data": {
      "image/png": "[encoded data removed]",
      "text/plain": [
       "<Figure size 432x288 with 1 Axes>"
      ]
     },
     "metadata": {
      "needs_background": "light"
     },
     "output_type": "display_data"
    }
   ],
   "source": [
    "#Days trending vs average title sentiment\n",
    "avg_ts = unique_df.groupby('days_trending', as_index=False)['title_sentiment'].mean()\n",
    "avg_ts.plot.bar(x = 'days_trending', y = 'title_sentiment', rot=0)\n",
    "\n",
    "overall_ts_avg = unique_df['title_sentiment'].mean()\n",
    "print('Overall average title sentiment =', overall_ts_avg)"
   ]
  },
  {
   "cell_type": "code",
   "execution_count": 59,
   "metadata": {
    "colab": {
     "base_uri": "https://localhost:8080/",
     "height": 303
    },
    "id": "yGtICZbnH0RF",
    "outputId": "171073d8-6900-4918-ba7b-e2e6f7525060"
   },
   "outputs": [
    {
     "name": "stdout",
     "output_type": "stream",
     "text": [
      "Overall average number of tags = 17.494388456252864\n"
     ]
    },
    {
     "data": {
      "image/png": "[encoded data removed]",
      "text/plain": [
       "<Figure size 432x288 with 1 Axes>"
      ]
     },
     "metadata": {
      "needs_background": "light"
     },
     "output_type": "display_data"
    }
   ],
   "source": [
    "#Days trending vs average number of tags used\n",
    "avg_tags = unique_df.groupby('days_trending', as_index=False)['tag_num'].mean()\n",
    "avg_tags.plot.bar(x = 'days_trending', y = 'tag_num', rot=0)\n",
    "\n",
    "overall_tags_avg = unique_df['tag_num'].mean()\n",
    "print('Overall average number of tags =', overall_tags_avg)"
   ]
  },
  {
   "cell_type": "code",
   "execution_count": 60,
   "metadata": {
    "colab": {
     "base_uri": "https://localhost:8080/",
     "height": 303
    },
    "id": "aKjcr4gSH0RG",
    "outputId": "a251bc9a-8056-4285-81ca-8090c4524858"
   },
   "outputs": [
    {
     "name": "stdout",
     "output_type": "stream",
     "text": [
      "Overall average number of uppercase words in title = 1.3944113605130555\n"
     ]
    },
    {
     "data": {
      "image/png": "[encoded data removed]",
      "text/plain": [
       "<Figure size 432x288 with 1 Axes>"
      ]
     },
     "metadata": {
      "needs_background": "light"
     },
     "output_type": "display_data"
    }
   ],
   "source": [
    "#Days trending vs number of uppercase words in title\n",
    "avg_uw = unique_df.groupby('days_trending', as_index=False)['uppercase_words'].mean()\n",
    "avg_uw.plot.bar(x = 'days_trending', y = 'uppercase_words', rot=0)\n",
    "\n",
    "overall_uw_avg = unique_df['uppercase_words'].mean()\n",
    "print('Overall average number of uppercase words in title =', overall_uw_avg)"
   ]
  },
  {
   "cell_type": "code",
   "execution_count": 61,
   "metadata": {
    "colab": {
     "base_uri": "https://localhost:8080/",
     "height": 303
    },
    "id": "oaZ1AHZmH0RH",
    "outputId": "85d24c29-4d1d-4ae8-a5af-651f5ebfc2b6"
   },
   "outputs": [
    {
     "name": "stdout",
     "output_type": "stream",
     "text": [
      "Overall average number of days until a video that trends becomes trending = 1.380554283096656\n"
     ]
    },
    {
     "data": {
      "image/png": "[encoded data removed]",
      "text/plain": [
       "<Figure size 432x288 with 1 Axes>"
      ]
     },
     "metadata": {
      "needs_background": "light"
     },
     "output_type": "display_data"
    }
   ],
   "source": [
    "#days until video becomes trending vs how long video trends for\n",
    "avg_dt = unique_df.groupby('days_trending', as_index=False)['days_until_first_trending'].mean()\n",
    "avg_dt.plot.bar(x = 'days_trending', y = 'days_until_first_trending', rot=0)\n",
    "\n",
    "overall_dt_avg = unique_df['days_until_first_trending'].mean()\n",
    "print('Overall average number of days until a video that trends becomes trending =', overall_dt_avg)"
   ]
  },
  {
   "cell_type": "markdown",
   "metadata": {
    "id": "G4MNyhCr0z2V"
   },
   "source": [
    "### **Supervised Models**"
   ]
  },
  {
   "cell_type": "code",
   "execution_count": 62,
   "metadata": {
    "id": "9_79tlW3xuot"
   },
   "outputs": [],
   "source": [
    "# Drop all categorical variables\n",
    "dropped_df = unique_df.drop(['video_id', 'title', 'publishedAt', 'channelId', 'channelTitle', 'trending_date', 'tags', 'thumbnail_link', 'comments_disabled', 'ratings_disabled', 'description', 'categoryId'], axis=1)"
   ]
  },
  {
   "cell_type": "code",
   "execution_count": 63,
   "metadata": {
    "colab": {
     "base_uri": "https://localhost:8080/",
     "height": 419
    },
    "id": "y9ZS2cYVCnio",
    "outputId": "925eca86-c2b6-4216-fd2d-585ca7a4975d"
   },
   "outputs": [
    {
     "data": {
      "text/html": [
       "<div>\n",
       "<style scoped>\n",
       "    .dataframe tbody tr th:only-of-type {\n",
       "        vertical-align: middle;\n",
       "    }\n",
       "\n",
       "    .dataframe tbody tr th {\n",
       "        vertical-align: top;\n",
       "    }\n",
       "\n",
       "    .dataframe thead th {\n",
       "        text-align: right;\n",
       "    }\n",
       "</style>\n",
       "<table border=\"1\" class=\"dataframe\">\n",
       "  <thead>\n",
       "    <tr style=\"text-align: right;\">\n",
       "      <th></th>\n",
       "      <th>view_count</th>\n",
       "      <th>likes</th>\n",
       "      <th>dislikes</th>\n",
       "      <th>comment_count</th>\n",
       "      <th>likes_percentage</th>\n",
       "      <th>tag_num</th>\n",
       "      <th>uppercase_words</th>\n",
       "      <th>title_sentiment</th>\n",
       "      <th>title_length</th>\n",
       "      <th>days_trending</th>\n",
       "      <th>days_until_first_trending</th>\n",
       "    </tr>\n",
       "  </thead>\n",
       "  <tbody>\n",
       "    <tr>\n",
       "      <th>0</th>\n",
       "      <td>9140911</td>\n",
       "      <td>296541</td>\n",
       "      <td>6180</td>\n",
       "      <td>30059</td>\n",
       "      <td>0.979585</td>\n",
       "      <td>23</td>\n",
       "      <td>2</td>\n",
       "      <td>0.0000</td>\n",
       "      <td>55</td>\n",
       "      <td>6</td>\n",
       "      <td>1</td>\n",
       "    </tr>\n",
       "    <tr>\n",
       "      <th>1</th>\n",
       "      <td>2038853</td>\n",
       "      <td>353797</td>\n",
       "      <td>2628</td>\n",
       "      <td>40222</td>\n",
       "      <td>0.992627</td>\n",
       "      <td>30</td>\n",
       "      <td>2</td>\n",
       "      <td>0.0000</td>\n",
       "      <td>53</td>\n",
       "      <td>6</td>\n",
       "      <td>1</td>\n",
       "    </tr>\n",
       "    <tr>\n",
       "      <th>2</th>\n",
       "      <td>2381688</td>\n",
       "      <td>146740</td>\n",
       "      <td>2794</td>\n",
       "      <td>16549</td>\n",
       "      <td>0.981315</td>\n",
       "      <td>25</td>\n",
       "      <td>0</td>\n",
       "      <td>0.0000</td>\n",
       "      <td>60</td>\n",
       "      <td>4</td>\n",
       "      <td>1</td>\n",
       "    </tr>\n",
       "    <tr>\n",
       "      <th>3</th>\n",
       "      <td>1514614</td>\n",
       "      <td>156914</td>\n",
       "      <td>5857</td>\n",
       "      <td>35331</td>\n",
       "      <td>0.964017</td>\n",
       "      <td>15</td>\n",
       "      <td>7</td>\n",
       "      <td>0.0000</td>\n",
       "      <td>34</td>\n",
       "      <td>6</td>\n",
       "      <td>1</td>\n",
       "    </tr>\n",
       "    <tr>\n",
       "      <th>4</th>\n",
       "      <td>1123889</td>\n",
       "      <td>45803</td>\n",
       "      <td>964</td>\n",
       "      <td>2198</td>\n",
       "      <td>0.979387</td>\n",
       "      <td>33</td>\n",
       "      <td>1</td>\n",
       "      <td>0.0000</td>\n",
       "      <td>55</td>\n",
       "      <td>6</td>\n",
       "      <td>1</td>\n",
       "    </tr>\n",
       "    <tr>\n",
       "      <th>...</th>\n",
       "      <td>...</td>\n",
       "      <td>...</td>\n",
       "      <td>...</td>\n",
       "      <td>...</td>\n",
       "      <td>...</td>\n",
       "      <td>...</td>\n",
       "      <td>...</td>\n",
       "      <td>...</td>\n",
       "      <td>...</td>\n",
       "      <td>...</td>\n",
       "      <td>...</td>\n",
       "    </tr>\n",
       "    <tr>\n",
       "      <th>45969</th>\n",
       "      <td>179438</td>\n",
       "      <td>18177</td>\n",
       "      <td>132</td>\n",
       "      <td>3587</td>\n",
       "      <td>0.992790</td>\n",
       "      <td>26</td>\n",
       "      <td>7</td>\n",
       "      <td>0.0000</td>\n",
       "      <td>52</td>\n",
       "      <td>1</td>\n",
       "      <td>1</td>\n",
       "    </tr>\n",
       "    <tr>\n",
       "      <th>45971</th>\n",
       "      <td>1995869</td>\n",
       "      <td>111108</td>\n",
       "      <td>1407</td>\n",
       "      <td>674</td>\n",
       "      <td>0.987495</td>\n",
       "      <td>1</td>\n",
       "      <td>9</td>\n",
       "      <td>0.3254</td>\n",
       "      <td>47</td>\n",
       "      <td>1</td>\n",
       "      <td>4</td>\n",
       "    </tr>\n",
       "    <tr>\n",
       "      <th>45973</th>\n",
       "      <td>315307</td>\n",
       "      <td>19249</td>\n",
       "      <td>291</td>\n",
       "      <td>3951</td>\n",
       "      <td>0.985107</td>\n",
       "      <td>11</td>\n",
       "      <td>1</td>\n",
       "      <td>0.6124</td>\n",
       "      <td>59</td>\n",
       "      <td>1</td>\n",
       "      <td>1</td>\n",
       "    </tr>\n",
       "    <tr>\n",
       "      <th>45980</th>\n",
       "      <td>795206</td>\n",
       "      <td>48662</td>\n",
       "      <td>467</td>\n",
       "      <td>3317</td>\n",
       "      <td>0.990494</td>\n",
       "      <td>29</td>\n",
       "      <td>0</td>\n",
       "      <td>0.0772</td>\n",
       "      <td>56</td>\n",
       "      <td>1</td>\n",
       "      <td>1</td>\n",
       "    </tr>\n",
       "    <tr>\n",
       "      <th>45992</th>\n",
       "      <td>542023</td>\n",
       "      <td>19978</td>\n",
       "      <td>324</td>\n",
       "      <td>1469</td>\n",
       "      <td>0.984041</td>\n",
       "      <td>6</td>\n",
       "      <td>1</td>\n",
       "      <td>0.0000</td>\n",
       "      <td>48</td>\n",
       "      <td>1</td>\n",
       "      <td>2</td>\n",
       "    </tr>\n",
       "  </tbody>\n",
       "</table>\n",
       "<p>8732 rows × 11 columns</p>\n",
       "</div>"
      ],
      "text/plain": [
       "       view_count   likes  dislikes  comment_count  likes_percentage  tag_num  \\\n",
       "0         9140911  296541      6180          30059          0.979585       23   \n",
       "1         2038853  353797      2628          40222          0.992627       30   \n",
       "2         2381688  146740      2794          16549          0.981315       25   \n",
       "3         1514614  156914      5857          35331          0.964017       15   \n",
       "4         1123889   45803       964           2198          0.979387       33   \n",
       "...           ...     ...       ...            ...               ...      ...   \n",
       "45969      179438   18177       132           3587          0.992790       26   \n",
       "45971     1995869  111108      1407            674          0.987495        1   \n",
       "45973      315307   19249       291           3951          0.985107       11   \n",
       "45980      795206   48662       467           3317          0.990494       29   \n",
       "45992      542023   19978       324           1469          0.984041        6   \n",
       "\n",
       "       uppercase_words  title_sentiment  title_length  days_trending  \\\n",
       "0                    2           0.0000            55              6   \n",
       "1                    2           0.0000            53              6   \n",
       "2                    0           0.0000            60              4   \n",
       "3                    7           0.0000            34              6   \n",
       "4                    1           0.0000            55              6   \n",
       "...                ...              ...           ...            ...   \n",
       "45969                7           0.0000            52              1   \n",
       "45971                9           0.3254            47              1   \n",
       "45973                1           0.6124            59              1   \n",
       "45980                0           0.0772            56              1   \n",
       "45992                1           0.0000            48              1   \n",
       "\n",
       "       days_until_first_trending  \n",
       "0                              1  \n",
       "1                              1  \n",
       "2                              1  \n",
       "3                              1  \n",
       "4                              1  \n",
       "...                          ...  \n",
       "45969                          1  \n",
       "45971                          4  \n",
       "45973                          1  \n",
       "45980                          1  \n",
       "45992                          2  \n",
       "\n",
       "[8732 rows x 11 columns]"
      ]
     },
     "metadata": {},
     "output_type": "display_data"
    }
   ],
   "source": [
    "display(dropped_df)"
   ]
  },
  {
   "cell_type": "code",
   "execution_count": 64,
   "metadata": {
    "id": "gnDEEijr1KDP"
   },
   "outputs": [],
   "source": [
    "from sklearn.tree import DecisionTreeClassifier\n",
    "from sklearn.linear_model import LogisticRegression\n",
    "from sklearn.ensemble import RandomForestRegressor\n",
    "from sklearn import svm\n",
    "from sklearn.ensemble import GradientBoostingRegressor\n",
    "from sklearn import metrics\n",
    "from sklearn.model_selection import cross_val_score\n",
    "from sklearn.model_selection import train_test_split\n",
    "from sklearn.metrics import accuracy_score"
   ]
  },
  {
   "cell_type": "code",
   "execution_count": 65,
   "metadata": {
    "id": "nVd1br3L0zIz"
   },
   "outputs": [],
   "source": [
    "#split into target and features, which is days_trending here\n",
    "y_val = dropped_df.loc[:, ['days_trending']]\n",
    "X_val = dropped_df.drop(columns=['days_trending'])"
   ]
  },
  {
   "cell_type": "code",
   "execution_count": 66,
   "metadata": {
    "id": "BAeJ0Adt1T1M"
   },
   "outputs": [],
   "source": [
    "# Set randomness so that we all get the same answer\n",
    "np.random.seed(25)\n",
    "\n",
    "# Split the data into train and test pieces for both X and Y\n",
    "X_train, X_test, y_train, y_test = train_test_split(X_val, y_val, train_size=0.80)"
   ]
  },
  {
   "cell_type": "code",
   "execution_count": 67,
   "metadata": {
    "id": "cUL7VNlzfGNa"
   },
   "outputs": [],
   "source": [
    "def compute_mape_score(y_test_input, y_pred_input):\n",
    "    y_test_input = np.array(y_test_input).reshape(-1,)\n",
    "    y_pred_input = np.array(y_pred_input).reshape(-1,)\n",
    "    percent_errors = np.abs((y_test_input - y_pred_input) / y_test_input) * 100\n",
    "    return np.mean(np.array(percent_errors))"
   ]
  },
  {
   "cell_type": "markdown",
   "metadata": {
    "id": "qbE4DOsI1cev"
   },
   "source": [
    "Support Vector Regressor Model"
   ]
  },
  {
   "cell_type": "code",
   "execution_count": 68,
   "metadata": {
    "id": "jWvzSk7WFg1d"
   },
   "outputs": [],
   "source": [
    "# Support Vector Regressor Modelling\n",
    "svm_model = svm.SVR()\n",
    "svm_fit = svm_model.fit(X_train, y_train.values.ravel())\n",
    "\n",
    "# get model prediction\n",
    "y_pred_svm = svm_fit.predict(X_test)"
   ]
  },
  {
   "cell_type": "code",
   "execution_count": 69,
   "metadata": {
    "colab": {
     "base_uri": "https://localhost:8080/"
    },
    "id": "z6Idt6OwfIqE",
    "outputId": "0bf18b78-7bac-4512-e049-cbae58523f4b"
   },
   "outputs": [
    {
     "name": "stdout",
     "output_type": "stream",
     "text": [
      "Mean Absolute Error: 1.1880349819101834\n",
      "Mean Absolute Percentage Error: 32.9268469376983\n",
      "Overall accuracy: 67.0731530623017 %\n"
     ]
    }
   ],
   "source": [
    "#Print out metrics value for the svm\n",
    "mae_svm = metrics.mean_absolute_error(y_test, y_pred_svm)\n",
    "mape_svm = compute_mape_score(y_test, y_pred_svm)\n",
    "overall_accuracy_svm = 100 - mape_svm\n",
    "\n",
    "print('Mean Absolute Error:', mae_svm)\n",
    "print('Mean Absolute Percentage Error:', mape_svm) \n",
    "print('Overall accuracy:', overall_accuracy_svm, '%')"
   ]
  },
  {
   "cell_type": "markdown",
   "metadata": {
    "id": "TfxbWrJHGw8K"
   },
   "source": [
    "Gradient Boosting Regressor Model"
   ]
  },
  {
   "cell_type": "code",
   "execution_count": 70,
   "metadata": {
    "id": "mV7gXtB3oegk"
   },
   "outputs": [],
   "source": [
    "#Gradient Boosting Regressor Model\n",
    "gbrt = GradientBoostingRegressor(max_depth=2, n_estimators=200, learning_rate=0.1, random_state=42)\n",
    "gbrt.fit(X_train, y_train.values.ravel())\n",
    "y_pred_gbr = gbrt.predict(X_test)"
   ]
  },
  {
   "cell_type": "code",
   "execution_count": 71,
   "metadata": {
    "colab": {
     "base_uri": "https://localhost:8080/"
    },
    "id": "ONiQEWK3pKi3",
    "outputId": "db82ddad-96d9-49dc-ae84-b478c3d28f6f"
   },
   "outputs": [
    {
     "name": "stdout",
     "output_type": "stream",
     "text": [
      "Mean Absolute Error: 1.1111969430240591\n",
      "Mean Absolute Percentage Error: 29.46917836054348\n",
      "Overall accuracy: 70.53082163945652 %\n"
     ]
    }
   ],
   "source": [
    "#Print out metrics value for the Gradient Boosting Regressor\n",
    "mae_gbr = metrics.mean_absolute_error(y_test, y_pred_gbr)\n",
    "mape_gbr = compute_mape_score(y_test, y_pred_gbr)\n",
    "overall_accuracy_gbr = 100 - mape_gbr\n",
    "\n",
    "print('Mean Absolute Error:', mae_gbr)\n",
    "print('Mean Absolute Percentage Error:', mape_gbr) \n",
    "print('Overall accuracy:', overall_accuracy_gbr, '%')"
   ]
  },
  {
   "cell_type": "markdown",
   "metadata": {
    "id": "1wYgsviRGybV"
   },
   "source": [
    "Random Forest Regressor"
   ]
  },
  {
   "cell_type": "code",
   "execution_count": 72,
   "metadata": {
    "id": "Q37xaBakUnNY"
   },
   "outputs": [],
   "source": [
    "#Random Forest Regressor\n",
    "regressor = RandomForestRegressor(n_estimators = 200, random_state = 17).fit(X_train,y_train.values.ravel())\n",
    "y_pred_rfr = regressor.predict(X_test)"
   ]
  },
  {
   "cell_type": "code",
   "execution_count": 73,
   "metadata": {
    "colab": {
     "base_uri": "https://localhost:8080/"
    },
    "id": "Vh2MLndKaRM2",
    "outputId": "2e07117e-3387-4325-f39f-49fcf8bede3d"
   },
   "outputs": [
    {
     "name": "stdout",
     "output_type": "stream",
     "text": [
      "Mean Absolute Error: 1.1123010875787065\n",
      "Mean Absolute Percentage Error: 28.57132635538474\n",
      "Overall accuracy: 71.42867364461526 %\n"
     ]
    }
   ],
   "source": [
    "#Print out metrics value for the random forest regressor\n",
    "mae_rfr = metrics.mean_absolute_error(y_test, y_pred_rfr)\n",
    "mape_rfr = compute_mape_score(y_test, y_pred_rfr)\n",
    "overall_accuracy_rfr = 100 - mape_rfr\n",
    "\n",
    "print('Mean Absolute Error:', mae_rfr)\n",
    "print('Mean Absolute Percentage Error:', mape_rfr)\n",
    "print('Overall accuracy:', overall_accuracy_rfr, '%')"
   ]
  },
  {
   "cell_type": "code",
   "execution_count": 74,
   "metadata": {
    "colab": {
     "base_uri": "https://localhost:8080/"
    },
    "id": "lEfJDpAWctnx",
    "outputId": "b8142ee9-62bd-4993-80fc-2556601c0417"
   },
   "outputs": [
    {
     "data": {
      "text/plain": [
       "likes                        0.156369\n",
       "view_count                   0.136151\n",
       "comment_count                0.121679\n",
       "likes_percentage             0.104217\n",
       "title_length                 0.098988\n",
       "days_until_first_trending    0.097575\n",
       "dislikes                     0.094360\n",
       "tag_num                      0.088648\n",
       "title_sentiment              0.057237\n",
       "uppercase_words              0.044777\n",
       "dtype: float64"
      ]
     },
     "execution_count": 74,
     "metadata": {},
     "output_type": "execute_result"
    }
   ],
   "source": [
    "#feature importance for RFR\n",
    "feature_imp_rfr = pd.Series(regressor.feature_importances_,index=X_train.columns).sort_values(ascending=False)\n",
    "feature_imp_rfr"
   ]
  },
  {
   "cell_type": "markdown",
   "metadata": {
    "id": "K5tLK7buqUzm"
   },
   "source": [
    "Stacking Models"
   ]
  },
  {
   "cell_type": "code",
   "execution_count": 75,
   "metadata": {
    "id": "z5qO8MKMqWPG"
   },
   "outputs": [],
   "source": [
    "#RandomForestRegressor Model\n",
    "rfr_pred_train = regressor.predict(X_train) #predicting against own training data\n",
    "\n",
    "#GradientBoostingRegressor Model\n",
    "gbr_pred_train = gbrt.predict(X_train) #predicting against own training data"
   ]
  },
  {
   "cell_type": "code",
   "execution_count": 76,
   "metadata": {
    "id": "e1Sp_H18qxWw"
   },
   "outputs": [],
   "source": [
    "#Combining set of predictions into a new set (X_train_pred)\n",
    "X_train_pred = zip(gbr_pred_train,rfr_pred_train)\n",
    "X_train_pred = pd.DataFrame(X_train_pred)\n",
    "\n",
    "#training new blender_model (RandomForestRegressor) on X_train_pred and y_train\n",
    "blender_model = RandomForestRegressor(random_state=17)\n",
    "blender_model.fit(X_train_pred, y_train.values.ravel())\n",
    "\n",
    "#stacking base models (RFR and GBR) X_test predictions\n",
    "X_test_pred = zip(y_pred_gbr,y_pred_rfr)\n",
    "X_test_pred = pd.DataFrame(X_test_pred)\n",
    "\n",
    "#predicting X_test with new blender model and compare the accuracy against y_test\n",
    "blender_pred = blender_model.predict(X_test_pred)"
   ]
  },
  {
   "cell_type": "code",
   "execution_count": 77,
   "metadata": {
    "colab": {
     "base_uri": "https://localhost:8080/"
    },
    "id": "-GAgEMSyr1sQ",
    "outputId": "7a7e3e12-fee0-4144-e323-7b79eb253889"
   },
   "outputs": [
    {
     "name": "stdout",
     "output_type": "stream",
     "text": [
      "Mean Absolute Error: 1.1310761305094448\n",
      "Mean Absolute Percentage Error: 28.494725197844833\n",
      "Overall accuracy: 71.50527480215517 %\n"
     ]
    }
   ],
   "source": [
    "#Print out metrics value for the random forest regressor\n",
    "mae_blend = metrics.mean_absolute_error(y_test, blender_pred)\n",
    "mape_blend = compute_mape_score(y_test, blender_pred)\n",
    "overall_accuracy_blend = 100 - mape_blend\n",
    "\n",
    "print('Mean Absolute Error:', mae_blend)\n",
    "print('Mean Absolute Percentage Error:', mape_blend) \n",
    "print('Overall accuracy:', overall_accuracy_blend, '%')"
   ]
  },
  {
   "cell_type": "code",
   "execution_count": 78,
   "metadata": {
    "colab": {
     "base_uri": "https://localhost:8080/"
    },
    "id": "ROODX9W6IW_B",
    "outputId": "8970f978-6c84-427b-acac-9b1466a947f0"
   },
   "outputs": [
    {
     "name": "stdout",
     "output_type": "stream",
     "text": [
      "                                  MAE       MAPE  Overall Accuracy\n",
      "SVR                          1.188035  32.926847         67.073153\n",
      "Gradient Boosting Regressor  1.111197  29.469178         70.530822\n",
      "Random Forest Regressor      1.112301  28.571326         71.428674\n",
      "Blended Model                1.131076  28.494725         71.505275\n"
     ]
    }
   ],
   "source": [
    "#Display all model performance \n",
    "results = {'MAE' : [mae_svm, mae_gbr, mae_rfr, mae_blend], \n",
    "           'MAPE' : [mape_svm, mape_gbr, mape_rfr, mape_blend], \n",
    "           'Overall Accuracy' : [overall_accuracy_svm, overall_accuracy_gbr, \n",
    "                                 overall_accuracy_rfr, overall_accuracy_blend]}\n",
    "results_df = pd.DataFrame(results, columns = ['MAE', 'MAPE', 'Overall Accuracy'], \n",
    "                          index = ['SVR', 'Gradient Boosting Regressor', \n",
    "                                   'Random Forest Regressor', 'Blended Model'])\n",
    "print(results_df)"
   ]
  }
 ],
 "metadata": {
  "accelerator": "GPU",
  "colab": {
   "collapsed_sections": [],
   "name": "Comm461 Final Project.ipynb",
   "provenance": []
  },
  "kernelspec": {
   "display_name": "Python 3",
   "language": "python",
   "name": "python3"
  },
  "language_info": {
   "codemirror_mode": {
    "name": "ipython",
    "version": 3
   },
   "file_extension": ".py",
   "mimetype": "text/x-python",
   "name": "python",
   "nbconvert_exporter": "python",
   "pygments_lexer": "ipython3",
   "version": "3.8.5"
  }
 },
 "nbformat": 4,
 "nbformat_minor": 1
}
